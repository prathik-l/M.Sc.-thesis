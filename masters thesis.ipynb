{
 "cells": [
  {
   "cell_type": "code",
   "execution_count": null,
   "id": "2ef9f556-7a9f-48fc-b295-9e7d35b05d0b",
   "metadata": {},
   "outputs": [],
   "source": [
    "import os\n",
    "import numpy as np\n",
    "from tensorflow.keras.preprocessing.image import ImageDataGenerator\n",
    "from sklearn.model_selection import train_test_split\n",
    "from keras.utils import np_utils\n",
    "\n",
    "# Assuming dataset_path is the directory where your dataset is stored\n",
    "dataset_path = 'path_to_your_dataset'\n",
    "categories = ['broadleaf', 'grass', 'soil', 'soybean']\n",
    "num_classes = len(categories)\n",
    "\n",
    "# Load your dataset here and split it into X (features) and y (labels)\n",
    "# This part is highly dependent on how your data is stored (e.g., in folders by category)\n",
    "\n",
    "# Assuming you've loaded and preprocessed your images into X and labels into y\n",
    "X_train, X_test, y_train, y_test = train_test_split(X, y, test_size=0.2, random_state=42)\n",
    "\n",
    "# Convert labels to categorical one-hot encoding\n",
    "y_train_one_hot = np_utils.to_categorical(y_train, num_classes)\n",
    "y_test_one_hot = np_utils.to_categorical(y_test, num_classes)\n"
   ]
  },
  {
   "cell_type": "code",
   "execution_count": null,
   "id": "789c65f3-cec2-434b-be59-3bb9569b1ffe",
   "metadata": {},
   "outputs": [],
   "source": [
    "from tensorflow.keras.models import Sequential\n",
    "from tensorflow.keras.layers import Conv2D, MaxPooling2D, Flatten, Dense\n",
    "\n",
    "def create_baseline_model(input_shape=(150, 150, 3), num_classes=4):\n",
    "    model = Sequential([\n",
    "        Conv2D(32, (3, 3), activation='relu', input_shape=input_shape),\n",
    "        MaxPooling2D(2, 2),\n",
    "        Conv2D(64, (3, 3), activation='relu'),\n",
    "        MaxPooling2D(2, 2),\n",
    "        Conv2D(128, (3, 3), activation='relu'),\n",
    "        MaxPooling2D(2, 2),\n",
    "        Flatten(),\n",
    "        Dense(512, activation='relu'),\n",
    "        Dense(num_classes, activation='softmax')\n",
    "    ])\n",
    "    \n",
    "    model.compile(optimizer='adam', loss='categorical_crossentropy', metrics=['accuracy'])\n",
    "    return model\n",
    "\n",
    "baseline_model = create_baseline_model()\n",
    "baseline_model.summary()\n"
   ]
  },
  {
   "cell_type": "code",
   "execution_count": null,
   "id": "a9ed4183-77ca-401e-9022-aacfa3419090",
   "metadata": {},
   "outputs": [],
   "source": [
    "history = baseline_model.fit(X_train, y_train_one_hot, epochs=30, validation_split=0.2)\n"
   ]
  },
  {
   "cell_type": "code",
   "execution_count": null,
   "id": "bd9896dc-9750-47a7-812a-0ab933295adb",
   "metadata": {},
   "outputs": [],
   "source": [
    "from sklearn.metrics import confusion_matrix, classification_report, roc_auc_score, roc_curve\n",
    "import matplotlib.pyplot as plt\n",
    "\n",
    "# Function to plot ROC Curve - for multi-class, you need to binarize the output\n",
    "def plot_roc_curve(y_true, y_pred, num_classes):\n",
    "    # Your ROC curve plotting code for multi-class classification\n",
    "    pass\n",
    "\n",
    "# Predictions\n",
    "y_pred = baseline_model.predict(X_test)\n",
    "y_pred_classes = np.argmax(y_pred, axis=1)\n",
    "y_true_classes = np.argmax(y_test_one_hot, axis=1)\n",
    "\n",
    "# Confusion Matrix\n",
    "print(confusion_matrix(y_true_classes, y_pred_classes))\n",
    "\n",
    "# Classification Report\n",
    "print(classification_report(y_true_classes, y_pred_classes))\n",
    "\n",
    "# ROC Curve\n",
    "# plot_roc_curve(y_test_one_hot, y_pred, num_classes)\n",
    "\n",
    "# Assuming additional functions for F1 score and recall have been defined\n",
    "# F1_score_function(y_true_classes, y_pred_classes)\n",
    "# Recall_score_function(y_true_classes, y_pred_classes)\n"
   ]
  }
 ],
 "metadata": {
  "kernelspec": {
   "display_name": "Python 3 (ipykernel)",
   "language": "python",
   "name": "python3"
  },
  "language_info": {
   "codemirror_mode": {
    "name": "ipython",
    "version": 3
   },
   "file_extension": ".py",
   "mimetype": "text/x-python",
   "name": "python",
   "nbconvert_exporter": "python",
   "pygments_lexer": "ipython3",
   "version": "3.11.7"
  }
 },
 "nbformat": 4,
 "nbformat_minor": 5
}
